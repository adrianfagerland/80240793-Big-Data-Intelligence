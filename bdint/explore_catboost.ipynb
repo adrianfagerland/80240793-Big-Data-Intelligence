{
 "cells": [
  {
   "cell_type": "code",
   "execution_count": null,
   "metadata": {},
   "outputs": [
    {
     "name": "stdout",
     "output_type": "stream",
     "text": [
      "The autoreload extension is already loaded. To reload it, use:\n",
      "  %reload_ext autoreload\n"
     ]
    }
   ],
   "source": [
    "%load_ext autoreload\n",
    "%autoreload 2"
   ]
  },
  {
   "cell_type": "code",
   "execution_count": 2,
   "metadata": {},
   "outputs": [
    {
     "name": "stdout",
     "output_type": "stream",
     "text": [
      "Train Set Size: 1460\n",
      "Test Set Size: 1459\n"
     ]
    },
    {
     "data": {
      "application/vnd.jupyter.widget-view+json": {
       "model_id": "762d524aa0ed4c398db9d92f17667f18",
       "version_major": 2,
       "version_minor": 0
      },
      "text/plain": [
       "MetricVisualizer(layout=Layout(align_self='stretch', height='500px'))"
      ]
     },
     "metadata": {},
     "output_type": "display_data"
    },
    {
     "name": "stdout",
     "output_type": "stream",
     "text": [
      "Training on fold [0/5]\n",
      "0:\tlearn: 191853.8663056\ttest: 195090.5868689\tbest: 195090.5868689 (0)\ttotal: 154ms\tremaining: 2m 34s\n",
      "250:\tlearn: 23313.8543278\ttest: 31468.8791861\tbest: 31468.8791861 (250)\ttotal: 7.03s\tremaining: 21s\n",
      "500:\tlearn: 17520.8043811\ttest: 27888.8233460\tbest: 27888.8233460 (500)\ttotal: 13.8s\tremaining: 13.7s\n"
     ]
    },
    {
     "ename": "KeyboardInterrupt",
     "evalue": "",
     "output_type": "error",
     "traceback": [
      "\u001b[0;31m---------------------------------------------------------------------------\u001b[0m",
      "\u001b[0;31mKeyboardInterrupt\u001b[0m                         Traceback (most recent call last)",
      "Cell \u001b[0;32mIn[2], line 60\u001b[0m\n\u001b[1;32m     57\u001b[0m x_train \u001b[38;5;241m=\u001b[39m features\n\u001b[1;32m     58\u001b[0m y_train \u001b[38;5;241m=\u001b[39m target\n\u001b[0;32m---> 60\u001b[0m rmse_value \u001b[38;5;241m=\u001b[39m \u001b[43mmodel\u001b[49m\u001b[38;5;241;43m.\u001b[39;49m\u001b[43mcross_validation\u001b[49m\u001b[43m(\u001b[49m\u001b[43mx_train\u001b[49m\u001b[43m,\u001b[49m\u001b[43m \u001b[49m\u001b[43my_train\u001b[49m\u001b[43m)\u001b[49m\n",
      "File \u001b[0;32m~/bdint/80240793-Big-Data-Intelligence/bdint/models/catboost.py:26\u001b[0m, in \u001b[0;36mCatBoost.cross_validation\u001b[0;34m(self, x_train_df, y_train_df, folds)\u001b[0m\n\u001b[1;32m     20\u001b[0m pool \u001b[38;5;241m=\u001b[39m Pool(\n\u001b[1;32m     21\u001b[0m     x_train_df,\n\u001b[1;32m     22\u001b[0m     label\u001b[38;5;241m=\u001b[39my_train_df,\n\u001b[1;32m     23\u001b[0m     cat_features\u001b[38;5;241m=\u001b[39mcat_features_indices,\n\u001b[1;32m     24\u001b[0m )\n\u001b[1;32m     25\u001b[0m params \u001b[38;5;241m=\u001b[39m \u001b[38;5;28mself\u001b[39m\u001b[38;5;241m.\u001b[39mmodel\u001b[38;5;241m.\u001b[39mget_params()  \u001b[38;5;66;03m# define different parameters to test here\u001b[39;00m\n\u001b[0;32m---> 26\u001b[0m scores \u001b[38;5;241m=\u001b[39m \u001b[43mcv\u001b[49m\u001b[43m(\u001b[49m\u001b[43mpool\u001b[49m\u001b[43m,\u001b[49m\u001b[43m \u001b[49m\u001b[43mparams\u001b[49m\u001b[43m,\u001b[49m\u001b[43m \u001b[49m\u001b[43mfold_count\u001b[49m\u001b[38;5;241;43m=\u001b[39;49m\u001b[43mfolds\u001b[49m\u001b[43m,\u001b[49m\u001b[43m \u001b[49m\u001b[43mreturn_models\u001b[49m\u001b[38;5;241;43m=\u001b[39;49m\u001b[38;5;28;43;01mTrue\u001b[39;49;00m\u001b[43m,\u001b[49m\u001b[43m \u001b[49m\u001b[43mplot\u001b[49m\u001b[38;5;241;43m=\u001b[39;49m\u001b[38;5;28;43;01mTrue\u001b[39;49;00m\u001b[43m)\u001b[49m\n\u001b[1;32m     27\u001b[0m \u001b[38;5;28;01mreturn\u001b[39;00m scores\n",
      "File \u001b[0;32m~/.cache/pypoetry/virtualenvs/bdint-AM14Fwwj-py3.11/lib/python3.11/site-packages/catboost/core.py:6797\u001b[0m, in \u001b[0;36mcv\u001b[0;34m(pool, params, dtrain, iterations, num_boost_round, fold_count, nfold, inverted, partition_random_seed, seed, shuffle, logging_level, stratified, as_pandas, metric_period, verbose, verbose_eval, plot, plot_file, early_stopping_rounds, save_snapshot, snapshot_file, snapshot_interval, metric_update_interval, folds, type, return_models, log_cout, log_cerr)\u001b[0m\n\u001b[1;32m   6794\u001b[0m     \u001b[38;5;28;01mreturn\u001b[39;00m _cv(params, pool, fold_count, inverted, partition_random_seed, shuffle, stratified,\n\u001b[1;32m   6795\u001b[0m             metric_update_interval, as_pandas, folds, \u001b[38;5;28mtype\u001b[39m, return_models)\n\u001b[1;32m   6796\u001b[0m \u001b[38;5;28;01melse\u001b[39;00m:\n\u001b[0;32m-> 6797\u001b[0m     results, cv_models \u001b[38;5;241m=\u001b[39m \u001b[43m_cv\u001b[49m\u001b[43m(\u001b[49m\u001b[43mparams\u001b[49m\u001b[43m,\u001b[49m\u001b[43m \u001b[49m\u001b[43mpool\u001b[49m\u001b[43m,\u001b[49m\u001b[43m \u001b[49m\u001b[43mfold_count\u001b[49m\u001b[43m,\u001b[49m\u001b[43m \u001b[49m\u001b[43minverted\u001b[49m\u001b[43m,\u001b[49m\u001b[43m \u001b[49m\u001b[43mpartition_random_seed\u001b[49m\u001b[43m,\u001b[49m\u001b[43m \u001b[49m\u001b[43mshuffle\u001b[49m\u001b[43m,\u001b[49m\u001b[43m \u001b[49m\u001b[43mstratified\u001b[49m\u001b[43m,\u001b[49m\n\u001b[1;32m   6798\u001b[0m \u001b[43m                             \u001b[49m\u001b[43mmetric_update_interval\u001b[49m\u001b[43m,\u001b[49m\u001b[43m \u001b[49m\u001b[43mas_pandas\u001b[49m\u001b[43m,\u001b[49m\u001b[43m \u001b[49m\u001b[43mfolds\u001b[49m\u001b[43m,\u001b[49m\u001b[43m \u001b[49m\u001b[38;5;28;43mtype\u001b[39;49m\u001b[43m,\u001b[49m\u001b[43m \u001b[49m\u001b[43mreturn_models\u001b[49m\u001b[43m)\u001b[49m\n\u001b[1;32m   6799\u001b[0m     output_cv_models \u001b[38;5;241m=\u001b[39m _convert_to_catboost(cv_models)\n\u001b[1;32m   6800\u001b[0m     \u001b[38;5;28;01mreturn\u001b[39;00m results, output_cv_models\n",
      "File \u001b[0;32m_catboost.pyx:5517\u001b[0m, in \u001b[0;36m_catboost._cv\u001b[0;34m()\u001b[0m\n",
      "File \u001b[0;32m_catboost.pyx:5549\u001b[0m, in \u001b[0;36m_catboost._cv\u001b[0;34m()\u001b[0m\n",
      "\u001b[0;31mKeyboardInterrupt\u001b[0m: "
     ]
    }
   ],
   "source": [
    "from sklearn.metrics import mean_squared_error\n",
    "from sklearn.model_selection import KFold\n",
    "\n",
    "def k_times_validation(train_df, model, k=5):\n",
    "    target = train_df[[\"SalePrice\"]]\n",
    "    features = train_df.drop(columns=[\"SalePrice\"])\n",
    "    target.columns = [\"SalePrice\"]\n",
    "    x_train = features\n",
    "    y_train = target\n",
    "\n",
    "    rmse_values = []\n",
    "\n",
    "    for i in range(k):\n",
    "        # Learn the given model\n",
    "        rmse_value = model.learn(x_train, y_train, validate=True)\n",
    "\n",
    "        model.save_model(f\"models/catboost_models/model_{i}.cbm\")\n",
    "\n",
    "        # Load the model\n",
    "        model.load_model(f\"models/catboost_models/model_{i}.cbm\")\n",
    "\n",
    "        rmse_values.append(rmse_value)\n",
    "\n",
    "    return rmse_values\n",
    "\n",
    "import pandas as pd\n",
    "\n",
    "from bdint.data import (\n",
    "    get_test_df,\n",
    "    get_train_df,\n",
    "    make_kaggle_submission_file,\n",
    ")\n",
    "from models import CatBoost, RandomForest\n",
    "\n",
    "train_df = get_train_df(\"../data/train.csv\")\n",
    "test_df = get_test_df(\"../data/test.csv\")\n",
    "\n",
    "print(\"Train Set Size:\", len(train_df))\n",
    "print(\"Test Set Size:\", len(test_df))\n",
    "\n",
    "# create Model\n",
    "# model = RandomForest(n_estimators=100, random_state=42)\n",
    "# set jobtype to cpu\n",
    "# model = CatBoost(early_stopping_rounds=2000, iterations=10000)\n",
    "# model = CatBoost(early_stopping_rounds=2000, iterations=15000)\n",
    "model = CatBoost(l2_leaf_reg=5, random_strength=2, bagging_temperature=1, use_best_model=True)\n",
    "\n",
    "# numerical\n",
    "# train_df = preprocess_for_numerical_model(train_df)\n",
    "# test_df = preprocess_for_numerical_model(test_df)\n",
    "\n",
    "# Check Performance of model using k validation\n",
    "# rmses = k_times_validation(train_df=train_df, model=model, k=1)\n",
    "target = train_df[[\"SalePrice\"]]\n",
    "features = train_df.drop(columns=[\"SalePrice\"])\n",
    "target.columns = [\"SalePrice\"]\n",
    "x_train = features\n",
    "y_train = target\n",
    "\n",
    "rmse_value = model.cross_validation(x_train, y_train)"
   ]
  },
  {
   "cell_type": "code",
   "execution_count": 3,
   "metadata": {},
   "outputs": [
    {
     "name": "stdout",
     "output_type": "stream",
     "text": [
      "0:\tlearn: 79060.9890697\ttotal: 40ms\tremaining: 10m\n",
      "250:\tlearn: 35661.1512396\ttotal: 8.37s\tremaining: 8m 12s\n",
      "500:\tlearn: 24795.4030231\ttotal: 16.4s\tremaining: 7m 54s\n",
      "750:\tlearn: 21217.8053840\ttotal: 24.1s\tremaining: 7m 37s\n",
      "1000:\tlearn: 19298.6853750\ttotal: 31.9s\tremaining: 7m 25s\n",
      "1250:\tlearn: 17967.2111224\ttotal: 40s\tremaining: 7m 19s\n",
      "1500:\tlearn: 16924.2620669\ttotal: 48.2s\tremaining: 7m 13s\n",
      "1750:\tlearn: 16049.2342312\ttotal: 56.4s\tremaining: 7m 7s\n",
      "2000:\tlearn: 15408.7013223\ttotal: 1m 4s\tremaining: 7m\n",
      "2250:\tlearn: 14827.3310093\ttotal: 1m 12s\tremaining: 6m 52s\n",
      "2500:\tlearn: 14296.5648553\ttotal: 1m 21s\tremaining: 6m 45s\n",
      "2750:\tlearn: 13792.7539108\ttotal: 1m 29s\tremaining: 6m 36s\n",
      "3000:\tlearn: 13343.9868758\ttotal: 1m 37s\tremaining: 6m 28s\n",
      "3250:\tlearn: 12850.4412343\ttotal: 1m 45s\tremaining: 6m 20s\n",
      "3500:\tlearn: 12412.7844642\ttotal: 1m 53s\tremaining: 6m 13s\n",
      "3750:\tlearn: 12070.9967367\ttotal: 2m 1s\tremaining: 6m 5s\n",
      "4000:\tlearn: 11766.4199832\ttotal: 2m 10s\tremaining: 5m 57s\n",
      "4250:\tlearn: 11427.4183157\ttotal: 2m 18s\tremaining: 5m 50s\n",
      "4500:\tlearn: 11082.4333885\ttotal: 2m 26s\tremaining: 5m 41s\n",
      "4750:\tlearn: 10753.5883457\ttotal: 2m 34s\tremaining: 5m 34s\n",
      "5000:\tlearn: 10468.8547031\ttotal: 2m 43s\tremaining: 5m 26s\n",
      "5250:\tlearn: 10227.2192390\ttotal: 2m 51s\tremaining: 5m 18s\n",
      "5500:\tlearn: 9962.6805152\ttotal: 3m\tremaining: 5m 10s\n",
      "5750:\tlearn: 9708.0561610\ttotal: 3m 8s\tremaining: 5m 2s\n",
      "6000:\tlearn: 9475.4466844\ttotal: 3m 16s\tremaining: 4m 54s\n",
      "6250:\tlearn: 9240.1491422\ttotal: 3m 24s\tremaining: 4m 46s\n",
      "6500:\tlearn: 9016.3213124\ttotal: 3m 32s\tremaining: 4m 37s\n",
      "6750:\tlearn: 8804.0212159\ttotal: 3m 40s\tremaining: 4m 29s\n",
      "7000:\tlearn: 8599.2553108\ttotal: 3m 49s\tremaining: 4m 21s\n",
      "7250:\tlearn: 8416.4286781\ttotal: 3m 57s\tremaining: 4m 13s\n",
      "7500:\tlearn: 8229.7689223\ttotal: 4m 5s\tremaining: 4m 5s\n",
      "7750:\tlearn: 8050.3941877\ttotal: 4m 13s\tremaining: 3m 57s\n",
      "8000:\tlearn: 7865.5623799\ttotal: 4m 22s\tremaining: 3m 49s\n",
      "8250:\tlearn: 7681.3145233\ttotal: 4m 30s\tremaining: 3m 41s\n",
      "8500:\tlearn: 7507.2367296\ttotal: 4m 38s\tremaining: 3m 32s\n",
      "8750:\tlearn: 7324.7818867\ttotal: 4m 46s\tremaining: 3m 24s\n",
      "9000:\tlearn: 7169.3240000\ttotal: 4m 54s\tremaining: 3m 16s\n",
      "9250:\tlearn: 7010.5399066\ttotal: 5m 3s\tremaining: 3m 8s\n",
      "9500:\tlearn: 6868.8414209\ttotal: 5m 11s\tremaining: 3m\n",
      "9750:\tlearn: 6739.1906303\ttotal: 5m 19s\tremaining: 2m 52s\n",
      "10000:\tlearn: 6613.7729856\ttotal: 5m 27s\tremaining: 2m 43s\n",
      "10250:\tlearn: 6485.6214874\ttotal: 5m 35s\tremaining: 2m 35s\n",
      "10500:\tlearn: 6359.4817504\ttotal: 5m 43s\tremaining: 2m 27s\n",
      "10750:\tlearn: 6237.8521276\ttotal: 5m 52s\tremaining: 2m 19s\n",
      "11000:\tlearn: 6115.8072780\ttotal: 6m\tremaining: 2m 11s\n",
      "11250:\tlearn: 6000.3039663\ttotal: 6m 8s\tremaining: 2m 2s\n",
      "11500:\tlearn: 5889.0338253\ttotal: 6m 16s\tremaining: 1m 54s\n",
      "11750:\tlearn: 5778.9864896\ttotal: 6m 25s\tremaining: 1m 46s\n",
      "12000:\tlearn: 5668.3941168\ttotal: 6m 33s\tremaining: 1m 38s\n",
      "12250:\tlearn: 5559.8356201\ttotal: 6m 41s\tremaining: 1m 30s\n",
      "12500:\tlearn: 5449.3183803\ttotal: 6m 50s\tremaining: 1m 21s\n",
      "12750:\tlearn: 5345.5871452\ttotal: 6m 58s\tremaining: 1m 13s\n",
      "13000:\tlearn: 5234.2313593\ttotal: 7m 6s\tremaining: 1m 5s\n",
      "13250:\tlearn: 5139.1430096\ttotal: 7m 14s\tremaining: 57.4s\n",
      "13500:\tlearn: 5039.0397386\ttotal: 7m 23s\tremaining: 49.2s\n",
      "13750:\tlearn: 4948.5590333\ttotal: 7m 31s\tremaining: 41s\n",
      "14000:\tlearn: 4856.8794407\ttotal: 7m 39s\tremaining: 32.8s\n",
      "14250:\tlearn: 4770.1346194\ttotal: 7m 47s\tremaining: 24.6s\n",
      "14500:\tlearn: 4684.9851394\ttotal: 7m 56s\tremaining: 16.4s\n",
      "14750:\tlearn: 4600.0510868\ttotal: 8m 4s\tremaining: 8.17s\n",
      "14999:\tlearn: 4512.7702626\ttotal: 8m 12s\tremaining: 0us\n"
     ]
    }
   ],
   "source": [
    "model = CatBoost(iterations=15000, learning_rate=0.006666)\n",
    "model.learn(x_train, y_train)\n",
    "prediction = model.predict(x_test_df=test_df)\n",
    "# create kaggle submission file\n",
    "make_kaggle_submission_file(prediction, test_df)"
   ]
  },
  {
   "cell_type": "code",
   "execution_count": 2,
   "metadata": {},
   "outputs": [
    {
     "ename": "CatBoostError",
     "evalue": "Invalid type for cat_feature category for [feature_idx=3]=21.0 : cat_features must be integer or string, real number values and NaN values should be converted to string.",
     "output_type": "error",
     "traceback": [
      "\u001b[0;31m---------------------------------------------------------------------------\u001b[0m",
      "\u001b[0;31mCatBoostError\u001b[0m                             Traceback (most recent call last)",
      "File \u001b[0;32m_catboost.pyx:2684\u001b[0m, in \u001b[0;36m_catboost._set_features_order_data_pd_data_frame_categorical_column\u001b[0;34m()\u001b[0m\n",
      "File \u001b[0;32m_catboost.pyx:1892\u001b[0m, in \u001b[0;36m_catboost.get_id_object_bytes_string_representation\u001b[0;34m()\u001b[0m\n",
      "\u001b[0;31mCatBoostError\u001b[0m: bad object for id: 21.0",
      "\nDuring handling of the above exception, another exception occurred:\n",
      "\u001b[0;31mCatBoostError\u001b[0m                             Traceback (most recent call last)",
      "Cell \u001b[0;32mIn[2], line 1\u001b[0m\n\u001b[0;32m----> 1\u001b[0m \u001b[43mrmse_value\u001b[49m\u001b[43m[\u001b[49m\u001b[38;5;241;43m1\u001b[39;49m\u001b[43m]\u001b[49m\u001b[43m[\u001b[49m\u001b[38;5;241;43m4\u001b[39;49m\u001b[43m]\u001b[49m\u001b[38;5;241;43m.\u001b[39;49m\u001b[43mpredict\u001b[49m\u001b[43m(\u001b[49m\u001b[43mtest_df\u001b[49m\u001b[43m)\u001b[49m\n",
      "File \u001b[0;32m~/.cache/pypoetry/virtualenvs/bdint-AM14Fwwj-py3.11/lib/python3.11/site-packages/catboost/core.py:2560\u001b[0m, in \u001b[0;36mCatBoost.predict\u001b[0;34m(self, data, prediction_type, ntree_start, ntree_end, thread_count, verbose, task_type)\u001b[0m\n\u001b[1;32m   2511\u001b[0m \u001b[38;5;28;01mdef\u001b[39;00m \u001b[38;5;21mpredict\u001b[39m(\u001b[38;5;28mself\u001b[39m, data, prediction_type\u001b[38;5;241m=\u001b[39m\u001b[38;5;124m'\u001b[39m\u001b[38;5;124mRawFormulaVal\u001b[39m\u001b[38;5;124m'\u001b[39m, ntree_start\u001b[38;5;241m=\u001b[39m\u001b[38;5;241m0\u001b[39m, ntree_end\u001b[38;5;241m=\u001b[39m\u001b[38;5;241m0\u001b[39m, thread_count\u001b[38;5;241m=\u001b[39m\u001b[38;5;241m-\u001b[39m\u001b[38;5;241m1\u001b[39m, verbose\u001b[38;5;241m=\u001b[39m\u001b[38;5;28;01mNone\u001b[39;00m, task_type\u001b[38;5;241m=\u001b[39m\u001b[38;5;124m\"\u001b[39m\u001b[38;5;124mCPU\u001b[39m\u001b[38;5;124m\"\u001b[39m):\n\u001b[1;32m   2512\u001b[0m \u001b[38;5;250m    \u001b[39m\u001b[38;5;124;03m\"\"\"\u001b[39;00m\n\u001b[1;32m   2513\u001b[0m \u001b[38;5;124;03m    Predict with data.\u001b[39;00m\n\u001b[1;32m   2514\u001b[0m \n\u001b[0;32m   (...)\u001b[0m\n\u001b[1;32m   2558\u001b[0m \u001b[38;5;124;03m              with probability for every class for each object.\u001b[39;00m\n\u001b[1;32m   2559\u001b[0m \u001b[38;5;124;03m    \"\"\"\u001b[39;00m\n\u001b[0;32m-> 2560\u001b[0m     \u001b[38;5;28;01mreturn\u001b[39;00m \u001b[38;5;28;43mself\u001b[39;49m\u001b[38;5;241;43m.\u001b[39;49m\u001b[43m_predict\u001b[49m\u001b[43m(\u001b[49m\u001b[43mdata\u001b[49m\u001b[43m,\u001b[49m\u001b[43m \u001b[49m\u001b[43mprediction_type\u001b[49m\u001b[43m,\u001b[49m\u001b[43m \u001b[49m\u001b[43mntree_start\u001b[49m\u001b[43m,\u001b[49m\u001b[43m \u001b[49m\u001b[43mntree_end\u001b[49m\u001b[43m,\u001b[49m\u001b[43m \u001b[49m\u001b[43mthread_count\u001b[49m\u001b[43m,\u001b[49m\u001b[43m \u001b[49m\u001b[43mverbose\u001b[49m\u001b[43m,\u001b[49m\u001b[43m \u001b[49m\u001b[38;5;124;43m'\u001b[39;49m\u001b[38;5;124;43mpredict\u001b[39;49m\u001b[38;5;124;43m'\u001b[39;49m\u001b[43m,\u001b[49m\u001b[43m \u001b[49m\u001b[43mtask_type\u001b[49m\u001b[43m)\u001b[49m\n",
      "File \u001b[0;32m~/.cache/pypoetry/virtualenvs/bdint-AM14Fwwj-py3.11/lib/python3.11/site-packages/catboost/core.py:2505\u001b[0m, in \u001b[0;36mCatBoost._predict\u001b[0;34m(self, data, prediction_type, ntree_start, ntree_end, thread_count, verbose, parent_method_name, task_type)\u001b[0m\n\u001b[1;32m   2503\u001b[0m \u001b[38;5;28;01mif\u001b[39;00m verbose \u001b[38;5;129;01mis\u001b[39;00m \u001b[38;5;28;01mNone\u001b[39;00m:\n\u001b[1;32m   2504\u001b[0m     verbose \u001b[38;5;241m=\u001b[39m \u001b[38;5;28;01mFalse\u001b[39;00m\n\u001b[0;32m-> 2505\u001b[0m data, data_is_single_object \u001b[38;5;241m=\u001b[39m \u001b[38;5;28;43mself\u001b[39;49m\u001b[38;5;241;43m.\u001b[39;49m\u001b[43m_process_predict_input_data\u001b[49m\u001b[43m(\u001b[49m\u001b[43mdata\u001b[49m\u001b[43m,\u001b[49m\u001b[43m \u001b[49m\u001b[43mparent_method_name\u001b[49m\u001b[43m,\u001b[49m\u001b[43m \u001b[49m\u001b[43mthread_count\u001b[49m\u001b[43m)\u001b[49m\n\u001b[1;32m   2506\u001b[0m \u001b[38;5;28mself\u001b[39m\u001b[38;5;241m.\u001b[39m_validate_prediction_type(prediction_type)\n\u001b[1;32m   2508\u001b[0m predictions \u001b[38;5;241m=\u001b[39m \u001b[38;5;28mself\u001b[39m\u001b[38;5;241m.\u001b[39m_base_predict(data, prediction_type, ntree_start, ntree_end, thread_count, verbose, task_type)\n",
      "File \u001b[0;32m~/.cache/pypoetry/virtualenvs/bdint-AM14Fwwj-py3.11/lib/python3.11/site-packages/catboost/core.py:2485\u001b[0m, in \u001b[0;36mCatBoost._process_predict_input_data\u001b[0;34m(self, data, parent_method_name, thread_count, label)\u001b[0m\n\u001b[1;32m   2483\u001b[0m is_single_object \u001b[38;5;241m=\u001b[39m _is_data_single_object(data)\n\u001b[1;32m   2484\u001b[0m \u001b[38;5;28;01mif\u001b[39;00m \u001b[38;5;129;01mnot\u001b[39;00m \u001b[38;5;28misinstance\u001b[39m(data, Pool):\n\u001b[0;32m-> 2485\u001b[0m     data \u001b[38;5;241m=\u001b[39m \u001b[43mPool\u001b[49m\u001b[43m(\u001b[49m\n\u001b[1;32m   2486\u001b[0m \u001b[43m        \u001b[49m\u001b[43mdata\u001b[49m\u001b[38;5;241;43m=\u001b[39;49m\u001b[43m[\u001b[49m\u001b[43mdata\u001b[49m\u001b[43m]\u001b[49m\u001b[43m \u001b[49m\u001b[38;5;28;43;01mif\u001b[39;49;00m\u001b[43m \u001b[49m\u001b[43mis_single_object\u001b[49m\u001b[43m \u001b[49m\u001b[38;5;28;43;01melse\u001b[39;49;00m\u001b[43m \u001b[49m\u001b[43mdata\u001b[49m\u001b[43m,\u001b[49m\n\u001b[1;32m   2487\u001b[0m \u001b[43m        \u001b[49m\u001b[43mlabel\u001b[49m\u001b[38;5;241;43m=\u001b[39;49m\u001b[43mlabel\u001b[49m\u001b[43m,\u001b[49m\n\u001b[1;32m   2488\u001b[0m \u001b[43m        \u001b[49m\u001b[43mcat_features\u001b[49m\u001b[38;5;241;43m=\u001b[39;49m\u001b[38;5;28;43mself\u001b[39;49m\u001b[38;5;241;43m.\u001b[39;49m\u001b[43m_get_cat_feature_indices\u001b[49m\u001b[43m(\u001b[49m\u001b[43m)\u001b[49m\u001b[43m \u001b[49m\u001b[38;5;28;43;01mif\u001b[39;49;00m\u001b[43m \u001b[49m\u001b[38;5;129;43;01mnot\u001b[39;49;00m\u001b[43m \u001b[49m\u001b[38;5;28;43misinstance\u001b[39;49m\u001b[43m(\u001b[49m\u001b[43mdata\u001b[49m\u001b[43m,\u001b[49m\u001b[43m \u001b[49m\u001b[43mFeaturesData\u001b[49m\u001b[43m)\u001b[49m\u001b[43m \u001b[49m\u001b[38;5;28;43;01melse\u001b[39;49;00m\u001b[43m \u001b[49m\u001b[38;5;28;43;01mNone\u001b[39;49;00m\u001b[43m,\u001b[49m\n\u001b[1;32m   2489\u001b[0m \u001b[43m        \u001b[49m\u001b[43mtext_features\u001b[49m\u001b[38;5;241;43m=\u001b[39;49m\u001b[38;5;28;43mself\u001b[39;49m\u001b[38;5;241;43m.\u001b[39;49m\u001b[43m_get_text_feature_indices\u001b[49m\u001b[43m(\u001b[49m\u001b[43m)\u001b[49m\u001b[43m \u001b[49m\u001b[38;5;28;43;01mif\u001b[39;49;00m\u001b[43m \u001b[49m\u001b[38;5;129;43;01mnot\u001b[39;49;00m\u001b[43m \u001b[49m\u001b[38;5;28;43misinstance\u001b[39;49m\u001b[43m(\u001b[49m\u001b[43mdata\u001b[49m\u001b[43m,\u001b[49m\u001b[43m \u001b[49m\u001b[43mFeaturesData\u001b[49m\u001b[43m)\u001b[49m\u001b[43m \u001b[49m\u001b[38;5;28;43;01melse\u001b[39;49;00m\u001b[43m \u001b[49m\u001b[38;5;28;43;01mNone\u001b[39;49;00m\u001b[43m,\u001b[49m\n\u001b[1;32m   2490\u001b[0m \u001b[43m        \u001b[49m\u001b[43membedding_features\u001b[49m\u001b[38;5;241;43m=\u001b[39;49m\u001b[38;5;28;43mself\u001b[39;49m\u001b[38;5;241;43m.\u001b[39;49m\u001b[43m_get_embedding_feature_indices\u001b[49m\u001b[43m(\u001b[49m\u001b[43m)\u001b[49m\u001b[43m \u001b[49m\u001b[38;5;28;43;01mif\u001b[39;49;00m\u001b[43m \u001b[49m\u001b[38;5;129;43;01mnot\u001b[39;49;00m\u001b[43m \u001b[49m\u001b[38;5;28;43misinstance\u001b[39;49m\u001b[43m(\u001b[49m\u001b[43mdata\u001b[49m\u001b[43m,\u001b[49m\u001b[43m \u001b[49m\u001b[43mFeaturesData\u001b[49m\u001b[43m)\u001b[49m\u001b[43m \u001b[49m\u001b[38;5;28;43;01melse\u001b[39;49;00m\u001b[43m \u001b[49m\u001b[38;5;28;43;01mNone\u001b[39;49;00m\u001b[43m,\u001b[49m\n\u001b[1;32m   2491\u001b[0m \u001b[43m        \u001b[49m\u001b[43mthread_count\u001b[49m\u001b[38;5;241;43m=\u001b[39;49m\u001b[43mthread_count\u001b[49m\n\u001b[1;32m   2492\u001b[0m \u001b[43m    \u001b[49m\u001b[43m)\u001b[49m\n\u001b[1;32m   2493\u001b[0m \u001b[38;5;28;01mreturn\u001b[39;00m data, is_single_object\n",
      "File \u001b[0;32m~/.cache/pypoetry/virtualenvs/bdint-AM14Fwwj-py3.11/lib/python3.11/site-packages/catboost/core.py:793\u001b[0m, in \u001b[0;36mPool.__init__\u001b[0;34m(self, data, label, cat_features, text_features, embedding_features, embedding_features_data, column_description, pairs, delimiter, has_header, ignore_csv_quoting, weight, group_id, group_weight, subgroup_id, pairs_weight, baseline, timestamp, feature_names, feature_tags, thread_count, log_cout, log_cerr)\u001b[0m\n\u001b[1;32m    787\u001b[0m         \u001b[38;5;28;01mif\u001b[39;00m \u001b[38;5;28misinstance\u001b[39m(feature_names, PATH_TYPES):\n\u001b[1;32m    788\u001b[0m             \u001b[38;5;28;01mraise\u001b[39;00m CatBoostError(\n\u001b[1;32m    789\u001b[0m                 \u001b[38;5;124m\"\u001b[39m\u001b[38;5;124mfeature_names must be None or have non-string type when the pool is created from \u001b[39m\u001b[38;5;124m\"\u001b[39m\n\u001b[1;32m    790\u001b[0m                 \u001b[38;5;124m\"\u001b[39m\u001b[38;5;124mpython objects.\u001b[39m\u001b[38;5;124m\"\u001b[39m\n\u001b[1;32m    791\u001b[0m             )\n\u001b[0;32m--> 793\u001b[0m         \u001b[38;5;28;43mself\u001b[39;49m\u001b[38;5;241;43m.\u001b[39;49m\u001b[43m_init\u001b[49m\u001b[43m(\u001b[49m\u001b[43mdata\u001b[49m\u001b[43m,\u001b[49m\u001b[43m \u001b[49m\u001b[43mlabel\u001b[49m\u001b[43m,\u001b[49m\u001b[43m \u001b[49m\u001b[43mcat_features\u001b[49m\u001b[43m,\u001b[49m\u001b[43m \u001b[49m\u001b[43mtext_features\u001b[49m\u001b[43m,\u001b[49m\u001b[43m \u001b[49m\u001b[43membedding_features\u001b[49m\u001b[43m,\u001b[49m\u001b[43m \u001b[49m\u001b[43membedding_features_data\u001b[49m\u001b[43m,\u001b[49m\u001b[43m \u001b[49m\u001b[43mpairs\u001b[49m\u001b[43m,\u001b[49m\u001b[43m \u001b[49m\u001b[43mweight\u001b[49m\u001b[43m,\u001b[49m\n\u001b[1;32m    794\u001b[0m \u001b[43m                   \u001b[49m\u001b[43mgroup_id\u001b[49m\u001b[43m,\u001b[49m\u001b[43m \u001b[49m\u001b[43mgroup_weight\u001b[49m\u001b[43m,\u001b[49m\u001b[43m \u001b[49m\u001b[43msubgroup_id\u001b[49m\u001b[43m,\u001b[49m\u001b[43m \u001b[49m\u001b[43mpairs_weight\u001b[49m\u001b[43m,\u001b[49m\u001b[43m \u001b[49m\u001b[43mbaseline\u001b[49m\u001b[43m,\u001b[49m\u001b[43m \u001b[49m\u001b[43mtimestamp\u001b[49m\u001b[43m,\u001b[49m\u001b[43m \u001b[49m\u001b[43mfeature_names\u001b[49m\u001b[43m,\u001b[49m\u001b[43m \u001b[49m\u001b[43mfeature_tags\u001b[49m\u001b[43m,\u001b[49m\u001b[43m \u001b[49m\u001b[43mthread_count\u001b[49m\u001b[43m)\u001b[49m\n\u001b[1;32m    795\u001b[0m \u001b[38;5;28msuper\u001b[39m(Pool, \u001b[38;5;28mself\u001b[39m)\u001b[38;5;241m.\u001b[39m\u001b[38;5;21m__init__\u001b[39m()\n",
      "File \u001b[0;32m~/.cache/pypoetry/virtualenvs/bdint-AM14Fwwj-py3.11/lib/python3.11/site-packages/catboost/core.py:1425\u001b[0m, in \u001b[0;36mPool._init\u001b[0;34m(self, data, label, cat_features, text_features, embedding_features, embedding_features_data, pairs, weight, group_id, group_weight, subgroup_id, pairs_weight, baseline, timestamp, feature_names, feature_tags, thread_count)\u001b[0m\n\u001b[1;32m   1423\u001b[0m \u001b[38;5;28;01mif\u001b[39;00m feature_tags \u001b[38;5;129;01mis\u001b[39;00m \u001b[38;5;129;01mnot\u001b[39;00m \u001b[38;5;28;01mNone\u001b[39;00m:\n\u001b[1;32m   1424\u001b[0m     feature_tags \u001b[38;5;241m=\u001b[39m \u001b[38;5;28mself\u001b[39m\u001b[38;5;241m.\u001b[39m_check_transform_tags(feature_tags, feature_names)\n\u001b[0;32m-> 1425\u001b[0m \u001b[38;5;28;43mself\u001b[39;49m\u001b[38;5;241;43m.\u001b[39;49m\u001b[43m_init_pool\u001b[49m\u001b[43m(\u001b[49m\u001b[43mdata\u001b[49m\u001b[43m,\u001b[49m\u001b[43m \u001b[49m\u001b[43mlabel\u001b[49m\u001b[43m,\u001b[49m\u001b[43m \u001b[49m\u001b[43mcat_features\u001b[49m\u001b[43m,\u001b[49m\u001b[43m \u001b[49m\u001b[43mtext_features\u001b[49m\u001b[43m,\u001b[49m\u001b[43m \u001b[49m\u001b[43membedding_features\u001b[49m\u001b[43m,\u001b[49m\u001b[43m \u001b[49m\u001b[43membedding_features_data\u001b[49m\u001b[43m,\u001b[49m\u001b[43m \u001b[49m\u001b[43mpairs\u001b[49m\u001b[43m,\u001b[49m\u001b[43m \u001b[49m\u001b[43mweight\u001b[49m\u001b[43m,\u001b[49m\n\u001b[1;32m   1426\u001b[0m \u001b[43m                \u001b[49m\u001b[43mgroup_id\u001b[49m\u001b[43m,\u001b[49m\u001b[43m \u001b[49m\u001b[43mgroup_weight\u001b[49m\u001b[43m,\u001b[49m\u001b[43m \u001b[49m\u001b[43msubgroup_id\u001b[49m\u001b[43m,\u001b[49m\u001b[43m \u001b[49m\u001b[43mpairs_weight\u001b[49m\u001b[43m,\u001b[49m\u001b[43m \u001b[49m\u001b[43mbaseline\u001b[49m\u001b[43m,\u001b[49m\u001b[43m \u001b[49m\u001b[43mtimestamp\u001b[49m\u001b[43m,\u001b[49m\u001b[43m \u001b[49m\u001b[43mfeature_names\u001b[49m\u001b[43m,\u001b[49m\u001b[43m \u001b[49m\u001b[43mfeature_tags\u001b[49m\u001b[43m,\u001b[49m\u001b[43m \u001b[49m\u001b[43mthread_count\u001b[49m\u001b[43m)\u001b[49m\n",
      "File \u001b[0;32m_catboost.pyx:3976\u001b[0m, in \u001b[0;36m_catboost._PoolBase._init_pool\u001b[0;34m()\u001b[0m\n",
      "File \u001b[0;32m_catboost.pyx:4026\u001b[0m, in \u001b[0;36m_catboost._PoolBase._init_pool\u001b[0;34m()\u001b[0m\n",
      "File \u001b[0;32m_catboost.pyx:3842\u001b[0m, in \u001b[0;36m_catboost._PoolBase._init_features_order_layout_pool\u001b[0;34m()\u001b[0m\n",
      "File \u001b[0;32m_catboost.pyx:2769\u001b[0m, in \u001b[0;36m_catboost._set_features_order_data_pd_data_frame\u001b[0;34m()\u001b[0m\n",
      "File \u001b[0;32m_catboost.pyx:2686\u001b[0m, in \u001b[0;36m_catboost._set_features_order_data_pd_data_frame_categorical_column\u001b[0;34m()\u001b[0m\n",
      "\u001b[0;31mCatBoostError\u001b[0m: Invalid type for cat_feature category for [feature_idx=3]=21.0 : cat_features must be integer or string, real number values and NaN values should be converted to string."
     ]
    }
   ],
   "source": [
    "rmse_value[1][4].predict(test_df)"
   ]
  },
  {
   "cell_type": "code",
   "execution_count": 17,
   "metadata": {},
   "outputs": [
    {
     "data": {
      "text/plain": [
       "int64       35\n",
       "category     5\n",
       "category     3\n",
       "float64      3\n",
       "category     2\n",
       "category     2\n",
       "category     1\n",
       "category     1\n",
       "category     1\n",
       "category     1\n",
       "category     1\n",
       "category     1\n",
       "category     1\n",
       "category     1\n",
       "category     1\n",
       "category     1\n",
       "category     1\n",
       "category     1\n",
       "category     1\n",
       "category     1\n",
       "category     1\n",
       "category     1\n",
       "category     1\n",
       "category     1\n",
       "category     1\n",
       "category     1\n",
       "category     1\n",
       "category     1\n",
       "category     1\n",
       "category     1\n",
       "category     1\n",
       "category     1\n",
       "category     1\n",
       "category     1\n",
       "category     1\n",
       "category     1\n",
       "category     1\n",
       "Name: count, dtype: int64"
      ]
     },
     "execution_count": 17,
     "metadata": {},
     "output_type": "execute_result"
    }
   ],
   "source": []
  }
 ],
 "metadata": {
  "kernelspec": {
   "display_name": "Python 3",
   "language": "python",
   "name": "python3"
  },
  "language_info": {
   "codemirror_mode": {
    "name": "ipython",
    "version": 3
   },
   "file_extension": ".py",
   "mimetype": "text/x-python",
   "name": "python",
   "nbconvert_exporter": "python",
   "pygments_lexer": "ipython3",
   "version": "3.11.7"
  }
 },
 "nbformat": 4,
 "nbformat_minor": 2
}
