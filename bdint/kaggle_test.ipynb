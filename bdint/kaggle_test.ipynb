{
 "cells": [
  {
   "cell_type": "code",
   "execution_count": null,
   "metadata": {},
   "outputs": [],
   "source": [
    "import kaggle\n",
    "\n",
    "def test_kaggle_connection(api_key_path):\n",
    "    try:\n",
    "        # Set Kaggle API key configuration\n",
    "        kaggle.api.authenticate(api_key_path=api_key_path)\n",
    "\n",
    "        # Test the Kaggle connection by fetching the list of datasets\n",
    "        datasets = kaggle.api.dataset_list()\n",
    "\n",
    "        # If the connection is successful, print the list of datasets\n",
    "        print(\"Connection to Kaggle successful. Datasets available:\")\n",
    "        for dataset in datasets:\n",
    "            print(dataset['title'])\n",
    "\n",
    "    except Exception as e:\n",
    "        # If an error occurs during the connection test, print the error message\n",
    "        print(f\"Error: {e}\")\n",
    "\n",
    "# Specify the path to your Kaggle API key file\n",
    "api_key_path = '/home/dawid/.kaggle/kaggle.json'\n",
    "\n",
    "# Call the function to test the Kaggle connection\n",
    "test_kaggle_connection(api_key_path)"
   ]
  }
 ],
 "metadata": {
  "language_info": {
   "name": "python"
  }
 },
 "nbformat": 4,
 "nbformat_minor": 2
}
