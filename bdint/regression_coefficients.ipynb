{
 "cells": [
  {
   "cell_type": "code",
   "execution_count": 5,
   "metadata": {},
   "outputs": [
    {
     "name": "stdout",
     "output_type": "stream",
     "text": [
      "MISSING COLUMNS: ['SalePrice']\n"
     ]
    },
    {
     "name": "stderr",
     "output_type": "stream",
     "text": [
      "/home/ewa/.cache/pypoetry/virtualenvs/bdint-SOv9kUne-py3.11/lib/python3.11/site-packages/sklearn/utils/validation.py:1183: DataConversionWarning: A column-vector y was passed when a 1d array was expected. Please change the shape of y to (n_samples, ), for example using ravel().\n",
      "  y = column_or_1d(y, warn=True)\n"
     ]
    },
    {
     "ename": "AttributeError",
     "evalue": "coef_ is only available when using a linear kernel",
     "output_type": "error",
     "traceback": [
      "\u001b[0;31m---------------------------------------------------------------------------\u001b[0m",
      "\u001b[0;31mAttributeError\u001b[0m                            Traceback (most recent call last)",
      "Cell \u001b[0;32mIn[5], line 31\u001b[0m\n\u001b[1;32m     27\u001b[0m     model\u001b[38;5;241m.\u001b[39mtrain \u001b[38;5;241m=\u001b[39m normalized_df\n\u001b[1;32m     29\u001b[0m model\u001b[38;5;241m.\u001b[39mlearn(train_x\u001b[38;5;241m=\u001b[39mmodel\u001b[38;5;241m.\u001b[39mtrain\u001b[38;5;241m.\u001b[39mdrop(columns\u001b[38;5;241m=\u001b[39m[\u001b[38;5;124m\"\u001b[39m\u001b[38;5;124mSalePrice\u001b[39m\u001b[38;5;124m\"\u001b[39m], inplace\u001b[38;5;241m=\u001b[39m\u001b[38;5;28;01mFalse\u001b[39;00m), train_y\u001b[38;5;241m=\u001b[39mpd\u001b[38;5;241m.\u001b[39mDataFrame(model\u001b[38;5;241m.\u001b[39mtrain[\u001b[38;5;124m\"\u001b[39m\u001b[38;5;124mSalePrice\u001b[39m\u001b[38;5;124m\"\u001b[39m]))\n\u001b[0;32m---> 31\u001b[0m coefficients \u001b[38;5;241m=\u001b[39m \u001b[43mmodel\u001b[49m\u001b[38;5;241;43m.\u001b[39;49m\u001b[43mmodel\u001b[49m\u001b[38;5;241;43m.\u001b[39;49m\u001b[43mcoef_\u001b[49m\n\u001b[1;32m     32\u001b[0m index_highest_coefficients \u001b[38;5;241m=\u001b[39m np\u001b[38;5;241m.\u001b[39margsort(\u001b[38;5;28mabs\u001b[39m(coefficients))[\u001b[38;5;241m0\u001b[39m][\u001b[38;5;241m-\u001b[39m\u001b[38;5;241m20\u001b[39m:][::\u001b[38;5;241m-\u001b[39m\u001b[38;5;241m1\u001b[39m]\n\u001b[1;32m     33\u001b[0m feature_names \u001b[38;5;241m=\u001b[39m model\u001b[38;5;241m.\u001b[39mtrain\u001b[38;5;241m.\u001b[39mcolumns[index_highest_coefficients]\n",
      "File \u001b[0;32m~/.cache/pypoetry/virtualenvs/bdint-SOv9kUne-py3.11/lib/python3.11/site-packages/sklearn/svm/_base.py:656\u001b[0m, in \u001b[0;36mBaseLibSVM.coef_\u001b[0;34m(self)\u001b[0m\n\u001b[1;32m    649\u001b[0m \u001b[38;5;250m\u001b[39m\u001b[38;5;124;03m\"\"\"Weights assigned to the features when `kernel=\"linear\"`.\u001b[39;00m\n\u001b[1;32m    650\u001b[0m \n\u001b[1;32m    651\u001b[0m \u001b[38;5;124;03mReturns\u001b[39;00m\n\u001b[1;32m    652\u001b[0m \u001b[38;5;124;03m-------\u001b[39;00m\n\u001b[1;32m    653\u001b[0m \u001b[38;5;124;03mndarray of shape (n_features, n_classes)\u001b[39;00m\n\u001b[1;32m    654\u001b[0m \u001b[38;5;124;03m\"\"\"\u001b[39;00m\n\u001b[1;32m    655\u001b[0m \u001b[38;5;28;01mif\u001b[39;00m \u001b[38;5;28mself\u001b[39m\u001b[38;5;241m.\u001b[39mkernel \u001b[38;5;241m!=\u001b[39m \u001b[38;5;124m\"\u001b[39m\u001b[38;5;124mlinear\u001b[39m\u001b[38;5;124m\"\u001b[39m:\n\u001b[0;32m--> 656\u001b[0m     \u001b[38;5;28;01mraise\u001b[39;00m \u001b[38;5;167;01mAttributeError\u001b[39;00m(\u001b[38;5;124m\"\u001b[39m\u001b[38;5;124mcoef_ is only available when using a linear kernel\u001b[39m\u001b[38;5;124m\"\u001b[39m)\n\u001b[1;32m    658\u001b[0m coef \u001b[38;5;241m=\u001b[39m \u001b[38;5;28mself\u001b[39m\u001b[38;5;241m.\u001b[39m_get_coef()\n\u001b[1;32m    660\u001b[0m \u001b[38;5;66;03m# coef_ being a read-only property, it's better to mark the value as\u001b[39;00m\n\u001b[1;32m    661\u001b[0m \u001b[38;5;66;03m# immutable to avoid hiding potential bugs for the unsuspecting user.\u001b[39;00m\n",
      "\u001b[0;31mAttributeError\u001b[0m: coef_ is only available when using a linear kernel"
     ]
    }
   ],
   "source": [
    "import pandas as pd\n",
    "import numpy as np\n",
    "import data \n",
    "from bdint.models import LinearRegression\n",
    "from sklearn.preprocessing import RobustScaler\n",
    "import matplotlib.pyplot as plt\n",
    "\n",
    "robustscaler = False \n",
    "train_df = data.get_train_df()\n",
    "test_df = data.get_test_df()\n",
    "\n",
    "model = LinearRegression(train=train_df, test=test_df, skewness_threshold=0.7, alpha = 1, regression_type=\"Ridge\")\n",
    "\n",
    "df = model.train\n",
    "df = df.astype('float64')\n",
    "norm = 'Normalizaiton'\n",
    "if robustscaler==True:\n",
    "    norm = 'RobustScaler'\n",
    "    robust_scl = RobustScaler()\n",
    "    robust_scl.fit(df)\n",
    "    df_scaled = robust_scl.transform(df)\n",
    "    model.train = pd.DataFrame(data = df_scaled, columns = df.columns, index = df.index)\n",
    "else:   \n",
    "    normalized_df=(df-df.min())/(df.max()-df.min())\n",
    "    normalized_df.fillna(0, inplace=True) # fix case when max is 0 (all False)\n",
    "    # normalized_df['SalePrice'] = train_df['SalePrice']\n",
    "    model.train = normalized_df\n",
    "\n",
    "model.learn(train_x=model.train.drop(columns=[\"SalePrice\"], inplace=False), train_y=pd.DataFrame(model.train[\"SalePrice\"]))\n",
    "\n",
    "coefficients = model.model.coef_\n",
    "index_highest_coefficients = np.argsort(abs(coefficients))[0][-20:][::-1]\n",
    "feature_names = model.train.columns[index_highest_coefficients]\n",
    "\n",
    "plt.bar(model.train.columns[index_highest_coefficients], coefficients[0][index_highest_coefficients])\n",
    "plt.axhline(y=0, color='b', linestyle='-')\n",
    "plt.xticks(rotation='vertical')\n",
    "plt.ylabel('coefficient value')\n",
    "plt.xlabel('Feature')\n",
    "plt.title(f'Highest coefficients of {model.name} Regression with {norm}')\n",
    "plt.savefig(f\"vizualization/regression_coefficients_{model.name}_{norm}.png\")\n",
    "plt.show()\n"
   ]
  }
 ],
 "metadata": {
  "kernelspec": {
   "display_name": "bdint-SOv9kUne-py3.11",
   "language": "python",
   "name": "python3"
  },
  "language_info": {
   "codemirror_mode": {
    "name": "ipython",
    "version": 3
   },
   "file_extension": ".py",
   "mimetype": "text/x-python",
   "name": "python",
   "nbconvert_exporter": "python",
   "pygments_lexer": "ipython3",
   "version": "3.11.7"
  }
 },
 "nbformat": 4,
 "nbformat_minor": 2
}
